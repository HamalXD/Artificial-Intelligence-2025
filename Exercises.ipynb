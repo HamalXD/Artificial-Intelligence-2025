{
 "cells": [
  {
   "cell_type": "markdown",
   "id": "38d2a0ea-074e-4caf-8db4-648ab416c8c5",
   "metadata": {},
   "source": [
    "<h2>Exercise 1</h2>"
   ]
  },
  {
   "cell_type": "code",
   "execution_count": 2,
   "id": "987941ed-355b-46c7-84bd-1d42f7f144c8",
   "metadata": {},
   "outputs": [
    {
     "name": "stdout",
     "output_type": "stream",
     "text": [
      "Time taken: 0.000000 seconds\n",
      "Start: A, Goal: E → Path: ['A', 'B', 'E']\n",
      "Time taken: 0.000000 seconds\n",
      "Start: C, Goal: D → Path: ['C', 'A', 'B', 'D']\n",
      "Time taken: 0.000000 seconds\n",
      "Start: B, Goal: F → Path: ['B', 'E', 'F']\n"
     ]
    }
   ],
   "source": [
    "import time\n",
    "from collections import deque\n",
    "\n",
    "def bfs(graph, start, goal):\n",
    "    start_time = time.time()\n",
    "    visited = set()\n",
    "    queue = deque([(start, [])])\n",
    "\n",
    "    while queue:\n",
    "        node, path = queue.popleft()\n",
    "        if node == goal:\n",
    "            end_time = time.time()\n",
    "            print(f\"Time taken: {end_time - start_time:.6f} seconds\")\n",
    "            return path + [node]\n",
    "        if node not in visited:\n",
    "            visited.add(node)\n",
    "            for neighbor in graph.get(node, []):\n",
    "                queue.append((neighbor, path + [node]))\n",
    "    return None\n",
    "\n",
    "graph = {\n",
    "    'A': ['B', 'C'],\n",
    "    'B': ['A', 'D', 'E'],\n",
    "    'C': ['A', 'F'],\n",
    "    'D': ['B'],\n",
    "    'E': ['B', 'F'],\n",
    "    'F': ['C', 'E']\n",
    "}\n",
    "\n",
    "start_end_pairs = [('A', 'E'), ('C', 'D'), ('B', 'F')]\n",
    "\n",
    "for start, goal in start_end_pairs:\n",
    "    result = bfs(graph, start, goal)\n",
    "    print(f\"Start: {start}, Goal: {goal} → Path:\", result if result else \"No path found.\")\n"
   ]
  },
  {
   "cell_type": "markdown",
   "id": "45251e28-1929-4d38-8721-c4c8a230fbac",
   "metadata": {},
   "source": [
    "<h2>Exercise 2</h2>"
   ]
  },
  {
   "cell_type": "code",
   "execution_count": 4,
   "id": "b70598ae-6285-4ce7-b6e1-8841e3a606e6",
   "metadata": {},
   "outputs": [
    {
     "name": "stdout",
     "output_type": "stream",
     "text": [
      "DFS Path found: ['A', 'B', 'E']\n",
      "DFS Time taken: 0.000000 seconds\n"
     ]
    }
   ],
   "source": [
    "def dfs(graph, node, goal, visited=None):\n",
    "    if visited is None:\n",
    "        visited = set()\n",
    "\n",
    "    if node == goal:\n",
    "        return [node]\n",
    "\n",
    "    if node not in visited:\n",
    "        visited.add(node)\n",
    "        for neighbor in graph.get(node, []):\n",
    "            path = dfs(graph, neighbor, goal, visited)\n",
    "            if path:\n",
    "                return [node] + path\n",
    "    return None\n",
    "\n",
    "start_time = time.time()\n",
    "result = dfs(graph, 'A', 'E')\n",
    "end_time = time.time()\n",
    "\n",
    "print(\"DFS Path found:\", result if result else \"No path found.\")\n",
    "print(f\"DFS Time taken: {end_time - start_time:.6f} seconds\")\n"
   ]
  },
  {
   "cell_type": "markdown",
   "id": "6a784c61-b7b6-4d13-8fe8-de94adb6b2c3",
   "metadata": {},
   "source": [
    "<h2>Exercise 3</h2>"
   ]
  },
  {
   "cell_type": "code",
   "execution_count": 6,
   "id": "0f0a3c5a-6b83-448e-96d8-9ec74bebe0b7",
   "metadata": {},
   "outputs": [
    {
     "name": "stdout",
     "output_type": "stream",
     "text": [
      "LDS Path found: ['A', 'C', 'F']\n",
      "LDS Time taken: 0.001005 seconds\n"
     ]
    }
   ],
   "source": [
    "def lds(graph, node, goal, depth_limit, visited=None):\n",
    "    if visited is None:\n",
    "        visited = set()\n",
    "\n",
    "    if depth_limit == 0:\n",
    "        return None\n",
    "\n",
    "    if node == goal:\n",
    "        return [node]\n",
    "\n",
    "    if node not in visited:\n",
    "        visited.add(node)\n",
    "        for neighbor in graph.get(node, []):\n",
    "            path = lds(graph, neighbor, goal, depth_limit - 1, visited)\n",
    "            if path:\n",
    "                return [node] + path\n",
    "    return None\n",
    "\n",
    "max_depth = 3\n",
    "start_time = time.time()\n",
    "result = lds(graph, 'A', 'F', max_depth)\n",
    "end_time = time.time()\n",
    "\n",
    "print(\"LDS Path found:\", result if result else \"No path found.\")\n",
    "print(f\"LDS Time taken: {end_time - start_time:.6f} seconds\")\n"
   ]
  },
  {
   "cell_type": "markdown",
   "id": "ccfa7c74-c7f7-4426-868a-78cc13fe84ac",
   "metadata": {},
   "source": [
    "<h2>Exercise 4</h2>"
   ]
  },
  {
   "cell_type": "code",
   "execution_count": 8,
   "id": "6bed097e-46fd-4fdd-9e19-0e30d11abbe7",
   "metadata": {},
   "outputs": [
    {
     "name": "stdout",
     "output_type": "stream",
     "text": [
      "Path found\n",
      "S * * * * * # . .\n",
      "# # # # # * # # #\n",
      ". . . . . * * * G\n",
      "# # # # # # # # #\n",
      "BFS Maze Time: 0.001997 seconds\n"
     ]
    }
   ],
   "source": [
    "def bfs_maze(maze, start, goal):\n",
    "    rows, cols = len(maze), len(maze[0])\n",
    "    visited = set()\n",
    "    parent = {}\n",
    "\n",
    "    def is_valid(x, y):\n",
    "        return 0 <= x < rows and 0 <= y < cols and maze[x][y] != '#' and (x, y) not in visited\n",
    "\n",
    "    queue = deque([start])\n",
    "    visited.add(start)\n",
    "\n",
    "    while queue:\n",
    "        x, y = queue.popleft()\n",
    "        if (x, y) == goal:\n",
    "            break\n",
    "\n",
    "        for dx, dy in [(0, 1), (1, 0), (0, -1), (-1, 0)]:\n",
    "            new_x, new_y = x + dx, y + dy\n",
    "            if is_valid(new_x, new_y):\n",
    "                queue.append((new_x, new_y))\n",
    "                visited.add((new_x, new_y))\n",
    "                parent[(new_x, new_y)] = (x, y)\n",
    "\n",
    "    if goal not in parent:\n",
    "        return \"No path found\"\n",
    "\n",
    "    path = []\n",
    "    x, y = goal\n",
    "    while (x, y) != start:\n",
    "        path.append((x, y))\n",
    "        x, y = parent[(x, y)]\n",
    "    path.append(start)\n",
    "    path.reverse()\n",
    "\n",
    "    for x, y in path:\n",
    "        if maze[x][y] != 'S' and maze[x][y] != 'G':\n",
    "            maze[x][y] = '*'\n",
    "\n",
    "    return \"Path found\"\n",
    "\n",
    "maze = [\n",
    "    ['S', '.', '.', '.', '.', '.', '#', '.', '.'],\n",
    "    ['#', '#', '#', '#', '#', '.', '#', '#', '#'],\n",
    "    ['.', '.', '.', '.', '.', '.', '.', '.', 'G'],\n",
    "    ['#', '#', '#', '#', '#', '#', '#', '#', '#']\n",
    "]\n",
    "\n",
    "start_pos = (0, 0)\n",
    "goal_pos = (2, 8)\n",
    "\n",
    "start_time = time.time()\n",
    "print(bfs_maze(maze, start_pos, goal_pos))\n",
    "end_time = time.time()\n",
    "\n",
    "for row in maze:\n",
    "    print(' '.join(row))\n",
    "\n",
    "print(f\"BFS Maze Time: {end_time - start_time:.6f} seconds\")\n"
   ]
  },
  {
   "cell_type": "markdown",
   "id": "36d573a0-bebc-4937-8a2b-13944542f45f",
   "metadata": {},
   "source": [
    "<h2>Exercise 5</h2>"
   ]
  },
  {
   "cell_type": "code",
   "execution_count": 10,
   "id": "4825792b-bea7-4937-944a-55201dca35e4",
   "metadata": {},
   "outputs": [
    {
     "name": "stdout",
     "output_type": "stream",
     "text": [
      "S * * * * * # . .\n",
      "# # # # # * # # #\n",
      ". . . . . * * * G\n",
      "# # # # # # # # #\n",
      "DFS Maze Time: 0.000000 seconds\n"
     ]
    }
   ],
   "source": [
    "def dfs_maze(maze, start, goal, visited=None, path=None):\n",
    "    if visited is None:\n",
    "        visited = set()\n",
    "    if path is None:\n",
    "        path = []\n",
    "\n",
    "    x, y = start\n",
    "    if start == goal:\n",
    "        return True\n",
    "\n",
    "    visited.add(start)\n",
    "    path.append(start)\n",
    "\n",
    "    for dx, dy in [(0, 1), (1, 0), (0, -1), (-1, 0)]:\n",
    "        new_x, new_y = x + dx, y + dy\n",
    "        if (0 <= new_x < len(maze) and 0 <= new_y < len(maze[0]) and \n",
    "            maze[new_x][new_y] != '#' and (new_x, new_y) not in visited):\n",
    "            if dfs_maze(maze, (new_x, new_y), goal, visited, path):\n",
    "                return True\n",
    "\n",
    "    path.pop()\n",
    "    return False\n",
    "\n",
    "path = []\n",
    "start_time = time.time()\n",
    "dfs_maze(maze, start_pos, goal_pos, path=path)\n",
    "end_time = time.time()\n",
    "\n",
    "for x, y in path:\n",
    "    if maze[x][y] not in ('S', 'G'):\n",
    "        maze[x][y] = '*'\n",
    "\n",
    "for row in maze:\n",
    "    print(' '.join(row))\n",
    "\n",
    "print(f\"DFS Maze Time: {end_time - start_time:.6f} seconds\")\n"
   ]
  }
 ],
 "metadata": {
  "kernelspec": {
   "display_name": "Python 3 (ipykernel)",
   "language": "python",
   "name": "python3"
  },
  "language_info": {
   "codemirror_mode": {
    "name": "ipython",
    "version": 3
   },
   "file_extension": ".py",
   "mimetype": "text/x-python",
   "name": "python",
   "nbconvert_exporter": "python",
   "pygments_lexer": "ipython3",
   "version": "3.11.7"
  }
 },
 "nbformat": 4,
 "nbformat_minor": 5
}
